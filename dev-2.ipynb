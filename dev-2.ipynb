{
 "cells": [
  {
   "cell_type": "markdown",
   "id": "2a117068",
   "metadata": {
    "id": "gm6fow0dK2K6",
    "papermill": {
     "duration": 0.004809,
     "end_time": "2024-12-06T09:39:51.847436",
     "exception": false,
     "start_time": "2024-12-06T09:39:51.842627",
     "status": "completed"
    },
    "tags": []
   },
   "source": []
  },
  {
   "cell_type": "code",
   "execution_count": 1,
   "id": "0b8b38be",
   "metadata": {
    "execution": {
     "iopub.execute_input": "2024-12-06T09:39:51.857740Z",
     "iopub.status.busy": "2024-12-06T09:39:51.857219Z",
     "iopub.status.idle": "2024-12-06T09:39:53.547823Z",
     "shell.execute_reply": "2024-12-06T09:39:53.546878Z"
    },
    "id": "pEZFN7g_Zo5X",
    "papermill": {
     "duration": 1.699031,
     "end_time": "2024-12-06T09:39:53.550620",
     "exception": false,
     "start_time": "2024-12-06T09:39:51.851589",
     "status": "completed"
    },
    "tags": []
   },
   "outputs": [],
   "source": [
    "import numpy as np\n",
    "from sklearn.datasets import fetch_openml\n",
    "from sklearn.preprocessing import OneHotEncoder\n",
    "from sklearn.model_selection import train_test_split\n",
    "import matplotlib.pyplot as plt\n",
    "import time"
   ]
  },
  {
   "cell_type": "code",
   "execution_count": 2,
   "id": "27165c78",
   "metadata": {
    "execution": {
     "iopub.execute_input": "2024-12-06T09:39:53.560890Z",
     "iopub.status.busy": "2024-12-06T09:39:53.560401Z",
     "iopub.status.idle": "2024-12-06T09:39:53.569134Z",
     "shell.execute_reply": "2024-12-06T09:39:53.567986Z"
    },
    "id": "YVYfWQhyaObo",
    "papermill": {
     "duration": 0.016274,
     "end_time": "2024-12-06T09:39:53.571270",
     "exception": false,
     "start_time": "2024-12-06T09:39:53.554996",
     "status": "completed"
    },
    "tags": []
   },
   "outputs": [],
   "source": [
    "# Helper function\n",
    "def show_images(image, num_row=2, num_col=5):\n",
    "    # plot images\n",
    "    image_size = int(np.sqrt(image.shape[-1]))\n",
    "    image = np.reshape(image, (image.shape[0], image_size, image_size))\n",
    "    fig, axes = plt.subplots(num_row, num_col, figsize=(1.5*num_col,2*num_row))\n",
    "    for i in range(num_row*num_col):\n",
    "        ax = axes[i//num_col, i%num_col]\n",
    "        ax.imshow(image[i], cmap='gray', vmin=0, vmax=1)\n",
    "        ax.axis('off')\n",
    "    plt.tight_layout()\n",
    "    plt.show()\n",
    "    \n",
    "def one_hot(x, k, dtype=np.float32):\n",
    "    \"\"\"Create a one-hot encoding of x of size k.\"\"\"\n",
    "    return np.array(x[:, None] == np.arange(k), dtype)"
   ]
  },
  {
   "cell_type": "markdown",
   "id": "d9d0e9cf",
   "metadata": {
    "id": "4okHLpN3aekG",
    "papermill": {
     "duration": 0.003812,
     "end_time": "2024-12-06T09:39:53.579157",
     "exception": false,
     "start_time": "2024-12-06T09:39:53.575345",
     "status": "completed"
    },
    "tags": []
   },
   "source": [
    "**Dataset preparation**"
   ]
  },
  {
   "cell_type": "code",
   "execution_count": 3,
   "id": "e07870e1",
   "metadata": {
    "execution": {
     "iopub.execute_input": "2024-12-06T09:39:53.588960Z",
     "iopub.status.busy": "2024-12-06T09:39:53.588581Z",
     "iopub.status.idle": "2024-12-06T09:40:11.664646Z",
     "shell.execute_reply": "2024-12-06T09:40:11.663510Z"
    },
    "id": "ssFUk8vd-Nu0",
    "outputId": "a30814db-828d-467c-caac-5b6c82213080",
    "papermill": {
     "duration": 18.084032,
     "end_time": "2024-12-06T09:40:11.667288",
     "exception": false,
     "start_time": "2024-12-06T09:39:53.583256",
     "status": "completed"
    },
    "tags": []
   },
   "outputs": [
    {
     "name": "stdout",
     "output_type": "stream",
     "text": [
      "Downloading data from https://storage.googleapis.com/tensorflow/tf-keras-datasets/mnist.npz\n",
      "\u001b[1m11490434/11490434\u001b[0m \u001b[32m━━━━━━━━━━━━━━━━━━━━\u001b[0m\u001b[37m\u001b[0m \u001b[1m2s\u001b[0m 0us/step\n"
     ]
    }
   ],
   "source": [
    "#Loading\n",
    "from keras.datasets import mnist\n",
    "(x_train, y_train), (x_test, y_test) = mnist.load_data()\n",
    "\n",
    "# Normalize data \n",
    "\n",
    "x_train= x_train / 255.0\n",
    "x_test = x_test / 255.0\n",
    " \n",
    "# One-hot encode labels\n",
    "num_labels = 10\n",
    "y_train=one_hot(y_train.astype('int32'),num_labels)\n",
    "y_test=one_hot(y_test.astype('int32'),num_labels)\n",
    "\n",
    "\n",
    "x_train = x_train.reshape(60000,28*28)\n",
    "x_test = x_test.reshape(10000,28*28)\n"
   ]
  },
  {
   "cell_type": "code",
   "execution_count": 4,
   "id": "b30f5972",
   "metadata": {
    "execution": {
     "iopub.execute_input": "2024-12-06T09:40:11.682496Z",
     "iopub.status.busy": "2024-12-06T09:40:11.681252Z",
     "iopub.status.idle": "2024-12-06T09:40:12.022404Z",
     "shell.execute_reply": "2024-12-06T09:40:12.021231Z"
    },
    "id": "-XZufYXl8oCM",
    "outputId": "f197e0f2-e1f5-4654-a512-192886f5f338",
    "papermill": {
     "duration": 0.35176,
     "end_time": "2024-12-06T09:40:12.024831",
     "exception": false,
     "start_time": "2024-12-06T09:40:11.673071",
     "status": "completed"
    },
    "tags": []
   },
   "outputs": [
    {
     "name": "stdout",
     "output_type": "stream",
     "text": [
      "Training data: (60000, 784) (60000, 10)\n",
      "Test data: (10000, 784) (10000, 10)\n"
     ]
    },
    {
     "data": {
      "image/png": "[encoded data removed]",
      "text/plain": [
       "<Figure size 750x400 with 10 Axes>"
      ]
     },
     "metadata": {},
     "output_type": "display_data"
    }
   ],
   "source": [
    "print(\"Training data: {} {}\".format(x_train.shape, y_train.shape))\n",
    "print(\"Test data: {} {}\".format(x_test.shape, y_test.shape))\n",
    "show_images(x_train)"
   ]
  },
  {
   "cell_type": "markdown",
   "id": "8d91fb3d",
   "metadata": {
    "id": "J26LnPXG-2kJ",
    "papermill": {
     "duration": 0.005724,
     "end_time": "2024-12-06T09:40:12.036465",
     "exception": false,
     "start_time": "2024-12-06T09:40:12.030741",
     "status": "completed"
    },
    "tags": []
   },
   "source": [
    "**Initialization**"
   ]
  },
  {
   "cell_type": "code",
   "execution_count": 5,
   "id": "c14023ea",
   "metadata": {
    "execution": {
     "iopub.execute_input": "2024-12-06T09:40:12.050669Z",
     "iopub.status.busy": "2024-12-06T09:40:12.049860Z",
     "iopub.status.idle": "2024-12-06T09:40:12.083824Z",
     "shell.execute_reply": "2024-12-06T09:40:12.082806Z"
    },
    "id": "Dm6X3x1b-5iA",
    "papermill": {
     "duration": 0.043769,
     "end_time": "2024-12-06T09:40:12.086197",
     "exception": false,
     "start_time": "2024-12-06T09:40:12.042428",
     "status": "completed"
    },
    "tags": []
   },
   "outputs": [],
   "source": [
    "class DeepNeuralNetwork():\n",
    "    def __init__(self, sizes, activation='sigmoid'):\n",
    "        self.sizes = sizes\n",
    "        \n",
    "        # Choose activation function\n",
    "        if activation == 'relu':\n",
    "            self.activation = self.relu\n",
    "        elif activation == 'sigmoid':\n",
    "            self.activation = self.sigmoid\n",
    "        else:\n",
    "            raise ValueError(\"Activation function is currently not support, please use 'relu' or 'sigmoid' instead.\")\n",
    "        \n",
    "        # Save all weights\n",
    "        self.params = self.initialize()\n",
    "        # Save all intermediate values, i.e. activations\n",
    "        self.cache = {}\n",
    "        # Momentum için\n",
    "        self.momemtum_opt = {key: np.zeros_like(value) for key, value in self.params.items()}\n",
    "\n",
    "        # RMSProp için\n",
    "        self.rmsprop_cache = {key: np.zeros_like(value) for key, value in self.params.items()}\n",
    "\n",
    "        # Adam için\n",
    "        self.adam_m = {key: np.zeros_like(value) for key, value in self.params.items()}\n",
    "        self.adam_v = {key: np.zeros_like(value) for key, value in self.params.items()}\n",
    "        self.t = 1  # Başlangıç iterasyon sayısı\n",
    "\n",
    "        \n",
    "    def relu(self, x, derivative=False):\n",
    "        '''\n",
    "            Derivative of ReLU is a bit more complicated since it is not differentiable at x = 0\n",
    "        \n",
    "            Forward path:\n",
    "            relu(x) = max(0, x)\n",
    "            In other word,\n",
    "            relu(x) = 0, if x < 0\n",
    "                    = x, if x >= 0\n",
    "\n",
    "            Backward path:\n",
    "            ∇relu(x) = 0, if x < 0\n",
    "                     = 1, if x >=0\n",
    "        '''\n",
    "        if derivative:\n",
    "            x = np.where(x < 0, 0, x)\n",
    "            x = np.where(x >= 0, 1, x)\n",
    "            return x\n",
    "        return np.maximum(0, x)\n",
    "\n",
    "\n",
    "    def sigmoid(self, x, derivative=False):\n",
    "        '''\n",
    "            Forward path:\n",
    "            σ(x) = 1 / 1+exp(-z)\n",
    "            \n",
    "            Backward path:\n",
    "            ∇σ(x) = exp(-z) / (1+exp(-z))^2\n",
    "        '''\n",
    "        x = np.clip(x, -500, 500)\n",
    "        if derivative:\n",
    "            sig = 1 / (1 + np.exp(-x))\n",
    "            return sig * (1 - sig)\n",
    "        return 1 / (1 + np.exp(-x))\n",
    "    \n",
    "    def softmax(self, x):\n",
    "        '''\n",
    "            softmax(x) = exp(x) / ∑exp(x)\n",
    "        '''\n",
    "        # Numerically stable with large exponentials\n",
    "        x = x - np.max(x, axis=0, keepdims=True)\n",
    "        exps = np.exp(x)\n",
    "        return exps / np.sum(exps, axis=0, keepdims=True)\n",
    "\n",
    "\n",
    "    def initialize(self):\n",
    "        # number of nodes in each layer\n",
    "        input_layer=self.sizes[0]\n",
    "        hidden_layer=self.sizes[1]\n",
    "        output_layer=self.sizes[2]\n",
    "        \n",
    "        return {\n",
    "            \"W1\": np.random.randn(hidden_layer, input_layer) * np.sqrt(2. / input_layer),  # He initialization\n",
    "            \"b1\": np.zeros((hidden_layer, 1)),\n",
    "            \"W2\": np.random.randn(output_layer, hidden_layer) * np.sqrt(2. / hidden_layer),  # He initialization\n",
    "            \"b2\": np.zeros((output_layer, 1))\n",
    "        }\n",
    "    \n",
    "    def initialize_momemtum_optimizer(self):\n",
    "        momemtum_opt = {\n",
    "            \"W1\": np.zeros(self.params[\"W1\"].shape),\n",
    "            \"b1\": np.zeros(self.params[\"b1\"].shape),\n",
    "            \"W2\": np.zeros(self.params[\"W2\"].shape),\n",
    "            \"b2\": np.zeros(self.params[\"b2\"].shape),\n",
    "        }\n",
    "        return momemtum_opt\n",
    "\n",
    "    def feed_forward(self, x):\n",
    "        '''\n",
    "            y = σ(wX + b)\n",
    "        '''\n",
    "        self.cache[\"X\"] = x\n",
    "        self.cache[\"Z1\"] = np.matmul(self.params[\"W1\"], self.cache[\"X\"].T) + self.params[\"b1\"]\n",
    "        self.cache[\"A1\"] = self.activation(self.cache[\"Z1\"])\n",
    "        self.cache[\"Z2\"] = np.matmul(self.params[\"W2\"], self.cache[\"A1\"]) + self.params[\"b2\"]\n",
    "        self.cache[\"A2\"] = self.softmax(self.cache[\"Z2\"])\n",
    "        return self.cache[\"A2\"]\n",
    "    def back_propagate(self, y, output):\n",
    "        '''\n",
    "            This is the backpropagation algorithm, for calculating the updates\n",
    "            of the neural network's parameters.\n",
    "\n",
    "            Note: There is a stability issue that causes warnings. This is \n",
    "                  caused  by the dot and multiply operations on the huge arrays.\n",
    "                  \n",
    "                  RuntimeWarning: invalid value encountered in true_divide\n",
    "                  RuntimeWarning: overflow encountered in exp\n",
    "                  RuntimeWarning: overflow encountered in square\n",
    "        '''\n",
    "        current_batch_size = y.shape[0]\n",
    "        \n",
    "        dZ2 = output - y.T\n",
    "        dW2 = (1./current_batch_size) * np.matmul(dZ2, self.cache[\"A1\"].T)\n",
    "        db2 = (1./current_batch_size) * np.sum(dZ2, axis=1, keepdims=True)\n",
    "\n",
    "        dA1 = np.matmul(self.params[\"W2\"].T, dZ2)\n",
    "        dZ1 = dA1 * self.activation(self.cache[\"Z1\"], derivative=True)\n",
    "        dW1 = (1./current_batch_size) * np.matmul(dZ1, self.cache[\"X\"])\n",
    "        db1 = (1./current_batch_size) * np.sum(dZ1, axis=1, keepdims=True)\n",
    "\n",
    "        self.grads = {\"W1\": dW1, \"b1\": db1, \"W2\": dW2, \"b2\": db2}\n",
    "        return self.grads\n",
    "    \n",
    "    def cross_entropy_loss(self, y, output):\n",
    "        '''\n",
    "            L(y, ŷ) = −∑ylog(ŷ).\n",
    "        '''\n",
    "        epsilon = 1e-12  # Küçük bir sabit ekleyerek log(0)'ı önler\n",
    "        output = np.clip(output, epsilon, 1. - epsilon)  # Çıktıyı sınırla\n",
    "        l_sum = np.sum(np.multiply(y.T, np.log(output)))\n",
    "        m = y.shape[0]\n",
    "        l = -(1./m) * l_sum\n",
    "        return l\n",
    "    def optimize_rmsprop(self, l_rate=0.001, beta=0.9, epsilon=1e-8):\n",
    "        for key in self.params:\n",
    "            self.rmsprop_cache[key] = beta * self.rmsprop_cache[key] + (1 - beta) * (self.grads[key] ** 2)\n",
    "            self.params[key] -= l_rate * self.grads[key] / (np.sqrt(self.rmsprop_cache[key]) + epsilon)\n",
    "    def optimize_adam(self, l_rate=0.001, beta1=0.9, beta2=0.999, epsilon=1e-8):\n",
    "        for key in self.params:\n",
    "            self.adam_m[key] = beta1 * self.adam_m[key] + (1 - beta1) * self.grads[key]\n",
    "            self.adam_v[key] = beta2 * self.adam_v[key] + (1 - beta2) * (self.grads[key] ** 2)\n",
    "        \n",
    "            m_hat = self.adam_m[key] / (1 - beta1 ** self.t)\n",
    "            v_hat = self.adam_v[key] / (1 - beta2 ** self.t)\n",
    "        \n",
    "            self.params[key] -= l_rate * m_hat / (np.sqrt(v_hat) + epsilon)\n",
    "        self.t += 1\n",
    "                \n",
    "    def optimize(self, l_rate=0.1, beta=.9, beta1=0.9, beta2=0.999, epsilon=1e-8):\n",
    "        '''\n",
    "            Stochatic Gradient Descent (SGD):\n",
    "            θ^(t+1) <- θ^t - η∇L(y, ŷ)\n",
    "            \n",
    "            Momentum:\n",
    "            v^(t+1) <- βv^t + (1-β)∇L(y, ŷ)^t\n",
    "            θ^(t+1) <- θ^t - ηv^(t+1)\n",
    "        '''\n",
    "        if self.optimizer == \"sgd\":\n",
    "            for key in self.params:\n",
    "                self.params[key] = self.params[key] - l_rate * self.grads[key]\n",
    "        elif self.optimizer == \"momentum\":\n",
    "            for key in self.params:\n",
    "                self.momemtum_opt[key] = (beta * self.momemtum_opt[key] + (1. - beta) * self.grads[key])\n",
    "                self.params[key] = self.params[key] - l_rate * self.momemtum_opt[key]\n",
    "        elif self.optimizer == \"RMSProp\":\n",
    "            self.optimize_rmsprop(l_rate=l_rate, beta=beta, epsilon=epsilon)\n",
    "        elif self.optimizer == \"adam\":\n",
    "            self.optimize_adam(l_rate=l_rate, beta1=beta1, beta2=beta2, epsilon=epsilon)\n",
    "    def accuracy(self, y, output):\n",
    "        return np.mean(np.argmax(y, axis=-1) == np.argmax(output.T, axis=-1))\n",
    "\n",
    "    def train(self, x_train, y_train, x_test, y_test, epochs=10, \n",
    "              batch_size=64, optimizer='momentum', l_rate=0.1, beta=.9):\n",
    "        # Hyperparameters\n",
    "        self.epochs = epochs\n",
    "        self.batch_size = batch_size\n",
    "        num_batches = -(-x_train.shape[0] // self.batch_size)\n",
    "        \n",
    "        # Initialize optimizer\n",
    "        self.optimizer = optimizer\n",
    "        if self.optimizer == 'momentum':\n",
    "            self.momemtum_opt = self.initialize_momemtum_optimizer()\n",
    "        \n",
    "        start_time = time.time()\n",
    "        template = \"Epoch {}: {:.2f}s, train acc={:.2f}, train loss={:.2f}, test acc={:.2f}, test loss={:.2f}\"\n",
    "        \n",
    "        # Train\n",
    "        for i in range(self.epochs):\n",
    "            # Shuffle\n",
    "            permutation = np.random.permutation(x_train.shape[0])\n",
    "            x_train_shuffled = x_train[permutation]\n",
    "            y_train_shuffled = y_train[permutation]\n",
    "\n",
    "            for j in range(num_batches):\n",
    "                # Batch\n",
    "                begin = j * self.batch_size\n",
    "                end = min(begin + self.batch_size, x_train.shape[0]-1)\n",
    "                x = x_train_shuffled[begin:end]\n",
    "                y = y_train_shuffled[begin:end]\n",
    "                \n",
    "                # Forward\n",
    "                output = self.feed_forward(x)\n",
    "                # Backprop\n",
    "                grad = self.back_propagate(y, output)\n",
    "                # Optimize\n",
    "                self.optimize(l_rate=l_rate, beta=beta)\n",
    "\n",
    "            # Evaluate performance\n",
    "            # Training data\n",
    "            output = self.feed_forward(x_train)\n",
    "            train_acc = self.accuracy(y_train, output)\n",
    "            train_loss = self.cross_entropy_loss(y_train, output)\n",
    "            # Test data\n",
    "            output = self.feed_forward(x_test)\n",
    "            test_acc = self.accuracy(y_test, output)\n",
    "            test_loss = self.cross_entropy_loss(y_test, output)\n",
    "            print(template.format(i+1, time.time()-start_time, train_acc, train_loss, test_acc, test_loss))"
   ]
  },
  {
   "cell_type": "code",
   "execution_count": 6,
   "id": "6ed8e825",
   "metadata": {
    "execution": {
     "iopub.execute_input": "2024-12-06T09:40:12.103227Z",
     "iopub.status.busy": "2024-12-06T09:40:12.102741Z",
     "iopub.status.idle": "2024-12-06T09:40:26.120445Z",
     "shell.execute_reply": "2024-12-06T09:40:26.118323Z"
    },
    "id": "e9BBT-GZhJ_8",
    "outputId": "6c59ed7a-62d4-4bb0-e102-9303ca123bf2",
    "papermill": {
     "duration": 14.029225,
     "end_time": "2024-12-06T09:40:26.123656",
     "exception": false,
     "start_time": "2024-12-06T09:40:12.094431",
     "status": "completed"
    },
    "tags": []
   },
   "outputs": [
    {
     "name": "stdout",
     "output_type": "stream",
     "text": [
      "Epoch 1: 1.43s, train acc=0.95, train loss=0.17, test acc=0.94, test loss=0.18\n",
      "Epoch 2: 2.85s, train acc=0.97, train loss=0.11, test acc=0.96, test loss=0.13\n",
      "Epoch 3: 4.22s, train acc=0.98, train loss=0.08, test acc=0.96, test loss=0.11\n",
      "Epoch 4: 5.58s, train acc=0.98, train loss=0.06, test acc=0.97, test loss=0.10\n",
      "Epoch 5: 7.01s, train acc=0.98, train loss=0.05, test acc=0.97, test loss=0.09\n",
      "Epoch 6: 8.40s, train acc=0.98, train loss=0.05, test acc=0.97, test loss=0.09\n",
      "Epoch 7: 9.81s, train acc=0.99, train loss=0.04, test acc=0.97, test loss=0.09\n",
      "Epoch 8: 11.22s, train acc=0.99, train loss=0.03, test acc=0.97, test loss=0.08\n",
      "Epoch 9: 12.60s, train acc=0.99, train loss=0.03, test acc=0.97, test loss=0.08\n",
      "Epoch 10: 14.00s, train acc=0.99, train loss=0.02, test acc=0.97, test loss=0.09\n"
     ]
    }
   ],
   "source": [
    "# Sigmoid + Momentum\n",
    "dnn = DeepNeuralNetwork(sizes=[784, 64, 10], activation='sigmoid')\n",
    "dnn.train(x_train, y_train, x_test, y_test, batch_size=128, optimizer='momentum', l_rate=4, beta=.9)"
   ]
  },
  {
   "cell_type": "code",
   "execution_count": 7,
   "id": "94645a42",
   "metadata": {
    "execution": {
     "iopub.execute_input": "2024-12-06T09:40:26.150433Z",
     "iopub.status.busy": "2024-12-06T09:40:26.149709Z",
     "iopub.status.idle": "2024-12-06T09:40:40.190090Z",
     "shell.execute_reply": "2024-12-06T09:40:40.188464Z"
    },
    "id": "nMouQ_HCNO1j",
    "outputId": "978e4eee-bec8-413f-ee46-ab222884a508",
    "papermill": {
     "duration": 14.057768,
     "end_time": "2024-12-06T09:40:40.193217",
     "exception": false,
     "start_time": "2024-12-06T09:40:26.135449",
     "status": "completed"
    },
    "tags": []
   },
   "outputs": [
    {
     "name": "stdout",
     "output_type": "stream",
     "text": [
      "Epoch 1: 1.30s, train acc=0.93, train loss=0.23, test acc=0.93, test loss=0.24\n",
      "Epoch 2: 2.60s, train acc=0.96, train loss=0.15, test acc=0.95, test loss=0.16\n",
      "Epoch 3: 4.72s, train acc=0.96, train loss=0.12, test acc=0.96, test loss=0.14\n",
      "Epoch 4: 6.20s, train acc=0.97, train loss=0.10, test acc=0.96, test loss=0.13\n",
      "Epoch 5: 7.50s, train acc=0.97, train loss=0.09, test acc=0.96, test loss=0.13\n",
      "Epoch 6: 8.80s, train acc=0.97, train loss=0.09, test acc=0.96, test loss=0.13\n",
      "Epoch 7: 10.10s, train acc=0.98, train loss=0.08, test acc=0.96, test loss=0.12\n",
      "Epoch 8: 11.40s, train acc=0.98, train loss=0.06, test acc=0.97, test loss=0.11\n",
      "Epoch 9: 12.70s, train acc=0.98, train loss=0.06, test acc=0.97, test loss=0.11\n",
      "Epoch 10: 14.02s, train acc=0.98, train loss=0.06, test acc=0.97, test loss=0.11\n"
     ]
    }
   ],
   "source": [
    "# Sigmoid + sgd\n",
    "dnn = DeepNeuralNetwork(sizes=[784, 64, 10], activation='sigmoid')\n",
    "dnn.train(x_train, y_train, x_test, y_test, batch_size=128, optimizer='sgd', l_rate=4)"
   ]
  },
  {
   "cell_type": "code",
   "execution_count": 8,
   "id": "f0335800",
   "metadata": {
    "execution": {
     "iopub.execute_input": "2024-12-06T09:40:40.222624Z",
     "iopub.status.busy": "2024-12-06T09:40:40.222055Z",
     "iopub.status.idle": "2024-12-06T09:40:50.076755Z",
     "shell.execute_reply": "2024-12-06T09:40:50.073006Z"
    },
    "id": "aCETHGtwNFQW",
    "outputId": "23270f45-3328-4302-cd8a-1cf4b58fb00f",
    "papermill": {
     "duration": 9.873689,
     "end_time": "2024-12-06T09:40:50.080361",
     "exception": false,
     "start_time": "2024-12-06T09:40:40.206672",
     "status": "completed"
    },
    "tags": []
   },
   "outputs": [
    {
     "name": "stdout",
     "output_type": "stream",
     "text": [
      "Epoch 1: 0.94s, train acc=0.89, train loss=0.39, test acc=0.90, test loss=0.38\n",
      "Epoch 2: 1.91s, train acc=0.91, train loss=0.33, test acc=0.91, test loss=0.31\n",
      "Epoch 3: 2.91s, train acc=0.91, train loss=0.30, test acc=0.92, test loss=0.29\n",
      "Epoch 4: 3.88s, train acc=0.92, train loss=0.29, test acc=0.92, test loss=0.28\n",
      "Epoch 5: 4.87s, train acc=0.92, train loss=0.28, test acc=0.92, test loss=0.27\n",
      "Epoch 6: 5.86s, train acc=0.92, train loss=0.27, test acc=0.92, test loss=0.27\n",
      "Epoch 7: 6.84s, train acc=0.93, train loss=0.26, test acc=0.93, test loss=0.26\n",
      "Epoch 8: 7.82s, train acc=0.93, train loss=0.26, test acc=0.93, test loss=0.26\n",
      "Epoch 9: 8.84s, train acc=0.93, train loss=0.25, test acc=0.93, test loss=0.25\n",
      "Epoch 10: 9.84s, train acc=0.93, train loss=0.25, test acc=0.93, test loss=0.25\n"
     ]
    }
   ],
   "source": [
    "# ReLU + SGD\n",
    "dnn = DeepNeuralNetwork(sizes=[784, 64, 10], activation='relu')\n",
    "dnn.train(x_train, y_train, x_test, y_test, batch_size=128, optimizer='sgd', l_rate=0.05)"
   ]
  },
  {
   "cell_type": "code",
   "execution_count": 9,
   "id": "0de4752f",
   "metadata": {
    "execution": {
     "iopub.execute_input": "2024-12-06T09:40:50.116928Z",
     "iopub.status.busy": "2024-12-06T09:40:50.113512Z",
     "iopub.status.idle": "2024-12-06T09:41:07.488213Z",
     "shell.execute_reply": "2024-12-06T09:41:07.486890Z"
    },
    "papermill": {
     "duration": 17.396187,
     "end_time": "2024-12-06T09:41:07.492758",
     "exception": false,
     "start_time": "2024-12-06T09:40:50.096571",
     "status": "completed"
    },
    "tags": []
   },
   "outputs": [
    {
     "name": "stdout",
     "output_type": "stream",
     "text": [
      "Epoch 1: 1.56s, train acc=0.67, train loss=5.50, test acc=0.66, test loss=5.47\n",
      "Epoch 2: 3.21s, train acc=0.68, train loss=5.96, test acc=0.69, test loss=5.80\n",
      "Epoch 3: 4.84s, train acc=0.61, train loss=7.34, test acc=0.61, test loss=7.22\n",
      "Epoch 4: 6.50s, train acc=0.72, train loss=5.05, test acc=0.73, test loss=4.84\n",
      "Epoch 5: 8.13s, train acc=0.68, train loss=6.95, test acc=0.68, test loss=6.94\n",
      "Epoch 6: 9.86s, train acc=0.78, train loss=4.22, test acc=0.79, test loss=3.85\n",
      "Epoch 7: 11.55s, train acc=0.81, train loss=3.42, test acc=0.81, test loss=3.40\n",
      "Epoch 8: 13.87s, train acc=0.73, train loss=5.13, test acc=0.73, test loss=5.12\n",
      "Epoch 9: 15.68s, train acc=0.76, train loss=4.20, test acc=0.76, test loss=4.20\n",
      "Epoch 10: 17.35s, train acc=0.69, train loss=5.64, test acc=0.69, test loss=5.60\n"
     ]
    }
   ],
   "source": [
    "# Sigmoid + RSMProp\n",
    "dnn = DeepNeuralNetwork(sizes=[784, 64, 10], activation='sigmoid')\n",
    "dnn.train(x_train, y_train, x_test, y_test, batch_size=128, optimizer='RMSProp', l_rate=2)"
   ]
  },
  {
   "cell_type": "code",
   "execution_count": 10,
   "id": "5841491f",
   "metadata": {
    "execution": {
     "iopub.execute_input": "2024-12-06T09:41:07.528326Z",
     "iopub.status.busy": "2024-12-06T09:41:07.525052Z",
     "iopub.status.idle": "2024-12-06T09:41:19.918442Z",
     "shell.execute_reply": "2024-12-06T09:41:19.917142Z"
    },
    "papermill": {
     "duration": 12.414339,
     "end_time": "2024-12-06T09:41:19.922893",
     "exception": false,
     "start_time": "2024-12-06T09:41:07.508554",
     "status": "completed"
    },
    "tags": []
   },
   "outputs": [
    {
     "name": "stdout",
     "output_type": "stream",
     "text": [
      "Epoch 1: 1.18s, train acc=0.62, train loss=2.93, test acc=0.63, test loss=2.82\n",
      "Epoch 2: 2.47s, train acc=0.60, train loss=5.69, test acc=0.61, test loss=5.50\n",
      "Epoch 3: 3.69s, train acc=0.73, train loss=3.76, test acc=0.73, test loss=3.69\n",
      "Epoch 4: 4.88s, train acc=0.73, train loss=4.72, test acc=0.72, test loss=4.85\n",
      "Epoch 5: 6.09s, train acc=0.62, train loss=6.99, test acc=0.62, test loss=6.93\n",
      "Epoch 6: 7.30s, train acc=0.71, train loss=6.28, test acc=0.71, test loss=6.32\n",
      "Epoch 7: 8.49s, train acc=0.69, train loss=6.19, test acc=0.68, test loss=6.31\n",
      "Epoch 8: 9.73s, train acc=0.72, train loss=5.91, test acc=0.72, test loss=5.73\n",
      "Epoch 9: 10.98s, train acc=0.64, train loss=8.21, test acc=0.64, test loss=8.13\n",
      "Epoch 10: 12.37s, train acc=0.74, train loss=5.51, test acc=0.74, test loss=5.54\n"
     ]
    }
   ],
   "source": [
    "# ReLU + RMSProp\n",
    "dnn = DeepNeuralNetwork(sizes=[784, 64, 10], activation='relu')\n",
    "dnn.train(x_train, y_train, x_test, y_test, batch_size=128, optimizer='RMSProp', l_rate=0.05)"
   ]
  },
  {
   "cell_type": "code",
   "execution_count": 11,
   "id": "6a58cc4a",
   "metadata": {
    "execution": {
     "iopub.execute_input": "2024-12-06T09:41:19.960436Z",
     "iopub.status.busy": "2024-12-06T09:41:19.957016Z",
     "iopub.status.idle": "2024-12-06T09:41:38.672992Z",
     "shell.execute_reply": "2024-12-06T09:41:38.671788Z"
    },
    "papermill": {
     "duration": 18.738505,
     "end_time": "2024-12-06T09:41:38.677536",
     "exception": false,
     "start_time": "2024-12-06T09:41:19.939031",
     "status": "completed"
    },
    "tags": []
   },
   "outputs": [
    {
     "name": "stdout",
     "output_type": "stream",
     "text": [
      "Epoch 1: 1.73s, train acc=0.44, train loss=5.61, test acc=0.44, test loss=5.59\n",
      "Epoch 2: 3.51s, train acc=0.54, train loss=2.11, test acc=0.55, test loss=2.07\n",
      "Epoch 3: 5.27s, train acc=0.51, train loss=2.48, test acc=0.52, test loss=2.41\n",
      "Epoch 4: 7.10s, train acc=0.41, train loss=2.28, test acc=0.41, test loss=2.27\n",
      "Epoch 5: 8.97s, train acc=0.52, train loss=2.44, test acc=0.52, test loss=2.51\n",
      "Epoch 6: 10.73s, train acc=0.61, train loss=2.00, test acc=0.61, test loss=1.97\n",
      "Epoch 7: 12.51s, train acc=0.52, train loss=2.21, test acc=0.52, test loss=2.17\n",
      "Epoch 8: 14.24s, train acc=0.53, train loss=1.91, test acc=0.54, test loss=1.89\n",
      "Epoch 9: 16.66s, train acc=0.54, train loss=2.12, test acc=0.54, test loss=2.11\n",
      "Epoch 10: 18.70s, train acc=0.54, train loss=1.99, test acc=0.55, test loss=1.93\n"
     ]
    }
   ],
   "source": [
    "# Sigmoid + adam\n",
    "dnn = DeepNeuralNetwork(sizes=[784, 64, 10], activation='sigmoid')\n",
    "dnn.train(x_train, y_train, x_test, y_test, batch_size=128, optimizer='adam', l_rate=2)"
   ]
  },
  {
   "cell_type": "code",
   "execution_count": 12,
   "id": "d0d64e44",
   "metadata": {
    "execution": {
     "iopub.execute_input": "2024-12-06T09:41:38.716493Z",
     "iopub.status.busy": "2024-12-06T09:41:38.715875Z",
     "iopub.status.idle": "2024-12-06T09:41:52.793618Z",
     "shell.execute_reply": "2024-12-06T09:41:52.792423Z"
    },
    "papermill": {
     "duration": 14.101556,
     "end_time": "2024-12-06T09:41:52.796655",
     "exception": false,
     "start_time": "2024-12-06T09:41:38.695099",
     "status": "completed"
    },
    "tags": []
   },
   "outputs": [
    {
     "name": "stdout",
     "output_type": "stream",
     "text": [
      "Epoch 1: 1.45s, train acc=0.81, train loss=1.09, test acc=0.82, test loss=1.04\n",
      "Epoch 2: 2.86s, train acc=0.78, train loss=2.56, test acc=0.79, test loss=2.50\n",
      "Epoch 3: 4.23s, train acc=0.80, train loss=1.93, test acc=0.82, test loss=1.84\n",
      "Epoch 4: 5.60s, train acc=0.79, train loss=3.03, test acc=0.81, test loss=2.79\n",
      "Epoch 5: 7.00s, train acc=0.77, train loss=3.21, test acc=0.78, test loss=2.98\n",
      "Epoch 6: 8.36s, train acc=0.76, train loss=3.74, test acc=0.77, test loss=3.56\n",
      "Epoch 7: 9.74s, train acc=0.75, train loss=3.65, test acc=0.77, test loss=3.59\n",
      "Epoch 8: 11.24s, train acc=0.77, train loss=4.28, test acc=0.78, test loss=4.19\n",
      "Epoch 9: 12.66s, train acc=0.77, train loss=4.27, test acc=0.78, test loss=4.03\n",
      "Epoch 10: 14.06s, train acc=0.75, train loss=4.65, test acc=0.76, test loss=4.62\n"
     ]
    }
   ],
   "source": [
    "# ReLU + adam\n",
    "dnn = DeepNeuralNetwork(sizes=[784, 64, 10], activation='relu')\n",
    "dnn.train(x_train, y_train, x_test, y_test, batch_size=128, optimizer='adam', l_rate=0.05)"
   ]
  },
  {
   "cell_type": "markdown",
   "id": "315c90b6",
   "metadata": {
    "id": "BqJhbb_iLCUi",
    "papermill": {
     "duration": 0.01772,
     "end_time": "2024-12-06T09:41:52.833164",
     "exception": false,
     "start_time": "2024-12-06T09:41:52.815444",
     "status": "completed"
    },
    "tags": []
   },
   "source": [
    "**Kod kaynak:** https://github.com/lionelmessi6410/Neural-Networks-from-Scratch/blob/main/NN-from-Scratch.ipynb"
   ]
  }
 ],
 "metadata": {
  "colab": {
   "name": "BTÖS_NN.ipynb",
   "provenance": []
  },
  "kaggle": {
   "accelerator": "none",
   "dataSources": [],
   "dockerImageVersionId": 30804,
   "isGpuEnabled": false,
   "isInternetEnabled": true,
   "language": "python",
   "sourceType": "notebook"
  },
  "kernelspec": {
   "display_name": "Python 3",
   "language": "python",
   "name": "python3"
  },
  "language_info": {
   "codemirror_mode": {
    "name": "ipython",
    "version": 3
   },
   "file_extension": ".py",
   "mimetype": "text/x-python",
   "name": "python",
   "nbconvert_exporter": "python",
   "pygments_lexer": "ipython3",
   "version": "3.10.14"
  },
  "papermill": {
   "default_parameters": {},
   "duration": 125.39581,
   "end_time": "2024-12-06T09:41:54.382446",
   "environment_variables": {},
   "exception": null,
   "input_path": "__notebook__.ipynb",
   "output_path": "__notebook__.ipynb",
   "parameters": {},
   "start_time": "2024-12-06T09:39:48.986636",
   "version": "2.6.0"
  }
 },
 "nbformat": 4,
 "nbformat_minor": 5
}
